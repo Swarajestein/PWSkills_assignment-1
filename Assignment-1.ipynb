{
 "cells": [
  {
   "cell_type": "markdown",
   "id": "31563a45-00f1-48dc-9e6d-a7644325b872",
   "metadata": {},
   "source": [
    "Q1. Create one variable containing following type of data:\n",
    "\n",
    "(i) string\n",
    "(ii) list\n",
    "(iii) float\n",
    "(iv) tuple"
   ]
  },
  {
   "cell_type": "code",
   "execution_count": 5,
   "id": "6af24afa-8793-4615-89e3-07e1f71f5188",
   "metadata": {},
   "outputs": [
    {
     "name": "stdout",
     "output_type": "stream",
     "text": [
      "<class 'str'>\n"
     ]
    }
   ],
   "source": [
    "a = \"Hello, World!\" \n",
    "print(type(a))"
   ]
  },
  {
   "cell_type": "code",
   "execution_count": 2,
   "id": "0ee3a697-37ae-4588-85e9-46ab4e5ef58e",
   "metadata": {},
   "outputs": [
    {
     "name": "stdout",
     "output_type": "stream",
     "text": [
      "<class 'list'>\n"
     ]
    }
   ],
   "source": [
    "a = [\"Swaraj\",\"Nilesh\",\"Suraj\"]\n",
    "print(type(a))"
   ]
  },
  {
   "cell_type": "code",
   "execution_count": 3,
   "id": "c0b165ba-a2c2-45c3-8bb1-9a1621be1b05",
   "metadata": {},
   "outputs": [
    {
     "name": "stdout",
     "output_type": "stream",
     "text": [
      "<class 'float'>\n"
     ]
    }
   ],
   "source": [
    "a = 3.14\n",
    "print(type(a))"
   ]
  },
  {
   "cell_type": "code",
   "execution_count": 4,
   "id": "aa9bcbe2-9827-417e-b058-f55d850ab5b9",
   "metadata": {},
   "outputs": [
    {
     "name": "stdout",
     "output_type": "stream",
     "text": [
      "<class 'tuple'>\n"
     ]
    }
   ],
   "source": [
    "a = (\"Swaraj\",\"Nilesh\",\"Suraj\",\"Kalyan\")\n",
    "print(type(a))"
   ]
  },
  {
   "cell_type": "markdown",
   "id": "a5da552c-76d6-48f9-9412-f71ea48a20c0",
   "metadata": {},
   "source": [
    "Q2. Given are some following variables containing data:\n",
    "(i) var1 = ‘ ‘\n",
    "(ii) var2 = ‘[ DS , ML , Python]’\n",
    "(iii) var3 = [ ‘DS’ , ’ML’ , ‘Python’ ]\n",
    "(iv) var4 = 1.\n",
    "What will be the data type of the above given variable."
   ]
  },
  {
   "cell_type": "code",
   "execution_count": null,
   "id": "edb92650-4820-4314-969b-dbcc058be9f2",
   "metadata": {},
   "outputs": [],
   "source": [
    "var1 =\" \" # this is a String.\n",
    "var2 = ‘[ DS , ML , Python]’ #this is a invalid declearation of list data type.\n",
    "var3 = [ \"DS\" , \"ML\" , \"Python\"] # This is a list data type too.\n",
    "var4 = 1 # This is a integer data type."
   ]
  },
  {
   "cell_type": "markdown",
   "id": "62cea737-e6b6-405c-ae67-684fd99f7c8e",
   "metadata": {},
   "source": [
    "Q3. Explain the use of the following operators using an example:\n",
    "(i) /\n",
    "(ii) %\n",
    "(iii) //\n",
    "(iv) **"
   ]
  },
  {
   "cell_type": "code",
   "execution_count": 17,
   "id": "87960655-b140-47c0-bdcd-9e76182cf723",
   "metadata": {},
   "outputs": [
    {
     "name": "stdout",
     "output_type": "stream",
     "text": [
      "2.5\n",
      "1\n",
      "2\n",
      "32\n"
     ]
    }
   ],
   "source": [
    "a = 2\n",
    "b = 5\n",
    "c = b/2           # Division operator returns the float value after division.\n",
    "print(c)\n",
    "c = b%2           # Modulus operator returns the remainder after divison.\n",
    "print(c)\n",
    "c = b//2          # This operator returns the integer value, this division also know as integer division or floor division -> round down the result to the nearest whole no.\n",
    "print(c)\n",
    "c = a**b          # This operator returns exponatial value such as c = a^b \n",
    "print(c)"
   ]
  },
  {
   "cell_type": "markdown",
   "id": "7d39a234-5a24-4a36-a3e4-1093fc62a923",
   "metadata": {},
   "source": [
    "Q4. Create a list of length 10 of your choice containing multiple types of data. Using for loop print the\n",
    "element and its data type."
   ]
  },
  {
   "cell_type": "code",
   "execution_count": 19,
   "id": "b3180c20-cad5-4b61-b19a-694f35b9cf8e",
   "metadata": {},
   "outputs": [
    {
     "name": "stdout",
     "output_type": "stream",
     "text": [
      "<class 'str'>\n",
      "<class 'str'>\n",
      "<class 'float'>\n",
      "<class 'int'>\n",
      "<class 'dict'>\n",
      "<class 'set'>\n",
      "<class 'tuple'>\n",
      "<class 'complex'>\n",
      "<class 'list'>\n",
      "<class 'bool'>\n"
     ]
    }
   ],
   "source": [
    "Choice_lst = [\"Swaraj\",\"Nilesh\",3.14,5,{\"Swaraj\":25},{\"Swaraj\",\"Suraj\"},(\"Suraj\",\"Andrew\"),3+4j,[25,24],bool(4)] \n",
    "for i in Choice_lst: \n",
    "    print(type(i))\n",
    "    "
   ]
  },
  {
   "cell_type": "markdown",
   "id": "788f9564-ce12-4a97-8644-601652e8c0e3",
   "metadata": {},
   "source": [
    "Q5. Using a while loop, verify if the number A is purely divisible by number B and if so then how many\n",
    "times it can be divisible."
   ]
  },
  {
   "cell_type": "code",
   "execution_count": 2,
   "id": "69385365-c1c2-4797-9b37-3fca8f3df671",
   "metadata": {},
   "outputs": [
    {
     "name": "stdin",
     "output_type": "stream",
     "text": [
      "Enter the no.  48\n",
      "Enter the second no. :  7\n"
     ]
    },
    {
     "name": "stdout",
     "output_type": "stream",
     "text": [
      " The no. 48 can not be purely divisible by 7\n"
     ]
    }
   ],
   "source": [
    "A = int(input(\"Enter the no. \"))\n",
    "B = int(input(\"Enter the second no. : \")) \n",
    "while A>B: \n",
    "    if A%B ==0:\n",
    "        print(f\" The no. {A} is purely divisible by {B} and it can be {A//B} times divisible\")\n",
    "        break\n",
    "    else: \n",
    "        print(f\" The no. {A} can not be purely divisible by {B}\")\n",
    "        break\n",
    "    "
   ]
  },
  {
   "cell_type": "markdown",
   "id": "c680f163-0447-41aa-b0c6-5eacb248038f",
   "metadata": {},
   "source": [
    "Q6. Create a list containing 25 int type data. Using for loop and if-else condition print if the element is\n",
    "divisible by 3 or not."
   ]
  },
  {
   "cell_type": "code",
   "execution_count": 5,
   "id": "d3feeb38-23dd-4a5f-b165-142fa57bbf13",
   "metadata": {},
   "outputs": [
    {
     "name": "stdout",
     "output_type": "stream",
     "text": [
      "The element 0 is not divisible by 3\n",
      "The element 1 is divisible by 3\n",
      "The element 2 is divisible by 3\n",
      "The element 3 is not divisible by 3\n",
      "The element 4 is divisible by 3\n",
      "The element 5 is not divisible by 3\n",
      "The element 6 is not divisible by 3\n",
      "The element 7 is not divisible by 3\n",
      "The element 8 is not divisible by 3\n",
      "The element 9 is not divisible by 3\n",
      "The element 10 is not divisible by 3\n",
      "The element 11 is divisible by 3\n",
      "The element 12 is divisible by 3\n",
      "The element 13 is not divisible by 3\n",
      "The element 14 is not divisible by 3\n",
      "The element 15 is not divisible by 3\n",
      "The element 16 is not divisible by 3\n",
      "The element 17 is not divisible by 3\n",
      "The element 18 is not divisible by 3\n",
      "The element 19 is divisible by 3\n",
      "The element 20 is not divisible by 3\n",
      "The element 21 is not divisible by 3\n",
      "The element 22 is not divisible by 3\n",
      "The element 23 is not divisible by 3\n",
      "The element 24 is not divisible by 3\n"
     ]
    }
   ],
   "source": [
    "lst = [2,3,24,25,21,34,25,13,199,5,34,21,45,35,64,32,56,7,7,75,47,4,7,7,152]\n",
    "\"\"\" len_lst = len(lst)\n",
    "print(len_lst) \"\"\"\n",
    "for i in range(25): \n",
    "     if lst[i]>0 and lst[i]%3 ==0: \n",
    "        print(f\"The element {i} is divisible by 3\")\n",
    "     else:\n",
    "        print(f\"The element {i} is not divisible by 3\")"
   ]
  },
  {
   "cell_type": "code",
   "execution_count": 14,
   "id": "7d783e0f-e4df-4bbe-85b9-4f36171b4972",
   "metadata": {},
   "outputs": [
    {
     "name": "stdout",
     "output_type": "stream",
     "text": [
      "Mutable data type -> In python lists are the data type which are ordered and mutable furthermore can contain duplicate elements,we can modify a list according to our requirements by appending or removing elements from it also by assigning elements in particular place\n",
      "as it supports indexing because it is ordered.Example Grading system, Stack & Queue, sorting and searching etc.\n",
      "\n",
      "['Swaraj', 'Nilesh', 'Suraj', 'Kalayan', 'Akriti']\n",
      "['Swaraj', 'Nilesh', 'Amit', 'Kalayan', 'Akriti']\n",
      "\n",
      " Similarly set are unordered,unique and mutable data type,we can modify the no. of elements in set by adding or removing elements but as it's unorder so doesn't support item assignment.\n",
      "\n",
      "{'Andrew', 'Nilesh', 'Amit', 'Kalayan', 'Swaraj'}\n",
      "{'Andrew', 'Amit', 'Kalayan', 'Swaraj'}\n",
      "\n",
      "\n",
      " Furthermore Dictionaries are ordered and mutable data type. \n",
      "\n",
      " \n",
      "Tuples are immutable data type as it does allow modification of element present in it. Once they are assigned, can't be changed. And it can duplicate elements.\n",
      "\n",
      "('Rohan', 'Swaraj', 'Nilesh', 'Suraj', 'Kalyan')\n",
      "\n",
      "\n",
      " Although we can create a new tuple from an existing one\n",
      "\n",
      "('Rohan', 'Swaraj', 'Nilesh', 'Suraj', 'Kalyan', 'Akash')\n"
     ]
    }
   ],
   "source": [
    "print(f\"\"\"Mutable data type -> In python lists are the data type which are ordered and mutable furthermore can contain duplicate elements,we can modify a list according to our requirements by appending or removing elements from it also by assigning elements in particular place\n",
    "as it supports indexing because it is ordered.Example Grading system, Stack & Queue, sorting and searching etc.\n",
    "\"\"\")\n",
    "friends_name = [\"Swaraj\",\"Nilesh\",\"Suraj\",\"Kalayan\"]\n",
    "friends_name.append(\"Akriti\")\n",
    "print(friends_name)\n",
    "friends_name[2]=\"Amit\"\n",
    "print(friends_name)\n",
    "\n",
    "print(f\"\"\"\n",
    " Similarly set are unordered,unique and mutable data type,we can modify the no. of elements in set by adding or removing elements but as it's unorder so doesn't support item assignment.\n",
    "\"\"\")\n",
    "\n",
    "my_set = {\"Swaraj\",\"Nilesh\",\"Kalayan\",\"Amit\"}\n",
    "my_set.add(\"Andrew\")\n",
    "print(my_set)\n",
    "my_set.remove(\"Nilesh\")\n",
    "print(my_set)  \n",
    "print(\"\\n\")\n",
    " \n",
    "print(f\"\"\" Furthermore Dictionaries are ordered and mutable data type. \n",
    "\"\"\")\n",
    "\n",
    "print(f\"\"\" \n",
    "Tuples are immutable data type as it does allow modification of element present in it. Once they are assigned, can't be changed. And it can duplicate elements.\n",
    "\"\"\")\n",
    "my_finger_name = (\"Rohan\",\"Swaraj\",\"Nilesh\",\"Suraj\",\"Kalyan\")\n",
    "print(my_finger_name)\n",
    "print(\"\\n\")\n",
    "print(f\"\"\" Although we can create a new tuple from an existing one\n",
    "\"\"\")\n",
    "my_finger_name1 = my_finger_name + (\"Akash\",)\n",
    "print(my_finger_name1)"
   ]
  },
  {
   "cell_type": "code",
   "execution_count": null,
   "id": "a1471bf4-a60f-4651-b6c6-22b1139e24ab",
   "metadata": {},
   "outputs": [],
   "source": []
  }
 ],
 "metadata": {
  "kernelspec": {
   "display_name": "Python 3 (ipykernel)",
   "language": "python",
   "name": "python3"
  },
  "language_info": {
   "codemirror_mode": {
    "name": "ipython",
    "version": 3
   },
   "file_extension": ".py",
   "mimetype": "text/x-python",
   "name": "python",
   "nbconvert_exporter": "python",
   "pygments_lexer": "ipython3",
   "version": "3.10.8"
  }
 },
 "nbformat": 4,
 "nbformat_minor": 5
}
